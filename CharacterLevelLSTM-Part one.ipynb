{
 "cells": [
  {
   "cell_type": "markdown",
   "metadata": {
    "id": "sZ6I5Yr8QUtD"
   },
   "source": [
    "### Character-Level Language Model\n",
    "\n",
    "This notebook contains a generative model working at the level of characters.\n"
   ]
  },
  {
   "cell_type": "markdown",
   "metadata": {},
   "source": [
    "\n",
    "\n",
    "I embarked on this task by first downloading the character-level model from My class website, Then, I executed the code using a dataset consisting of Java code files. I also read the article \"The Unreasonable Effectiveness of Recurrent Neural Networks\" linked with Lecture 14. This provided insights into the capabilities and challenges of character-level models. I selected Java code files from the dataset and combined them into one long text file. The dataset contained approximately 10-20K characters."
   ]
  },
  {
   "cell_type": "code",
   "execution_count": null,
   "metadata": {},
   "outputs": [],
   "source": []
  },
  {
   "cell_type": "code",
   "execution_count": 1,
   "metadata": {
    "id": "RqPkh2KTGUGp"
   },
   "outputs": [],
   "source": [
    "import numpy as np\n",
    "from numpy.random import randint,rand,seed,normal,permutation,choice\n",
    "\n",
    "import string\n",
    "import math\n",
    "\n",
    "import matplotlib.pyplot as plt\n",
    "from copy import deepcopy\n",
    "from tqdm import tqdm\n",
    "\n",
    "import torch\n",
    "from torch import nn, optim\n",
    "import torch.nn.functional as F\n",
    "from torch.utils.data import random_split,Dataset,DataLoader\n",
    "\n",
    "\n",
    "\n",
    "# from torchsummary import summary                   # must install using pip install torchsummary"
   ]
  },
  {
   "cell_type": "markdown",
   "metadata": {
    "id": "FbYPF_0RQw1j"
   },
   "source": [
    "Load a text file. We chose a poem, to see how it did with line breaks.  "
   ]
  },
  {
   "cell_type": "code",
   "execution_count": 7,
   "metadata": {
    "colab": {
     "base_uri": "https://localhost:8080/",
     "height": 35
    },
    "id": "2_zGTaCKGUGs",
    "outputId": "46973f9f-1845-40ff-8287-b68b4eb8556a"
   },
   "outputs": [
    {
     "data": {
      "text/plain": [
       "\"Of Man's first disobedience, and the fruit\\nOf that forbidden tree whose mortal taste\\nBrought death i\""
      ]
     },
     "execution_count": 7,
     "metadata": {},
     "output_type": "execute_result"
    }
   ],
   "source": [
    "\n",
    "with open(\"Milton_Paradise_Lost.txt\", \"r\") as text_file:\n",
    "    text = text_file.read()\n",
    "\n",
    "text[:100]"
   ]
  },
  {
   "cell_type": "code",
   "execution_count": 86,
   "metadata": {},
   "outputs": [],
   "source": [
    "\n",
    "java_file1 = 'Othello.java'\n",
    "java_file2 = 'EightPuzzle.java'\n",
    "java_file3 = 'TicTacToe.java'\n",
    "output_file = 'combinedfile.txt'\n",
    "\n",
    "def concatenate_files(file_paths, output_path):\n",
    "    with open(output_path, 'w') as outfile:\n",
    "        for file_path in file_paths:\n",
    "            with open(file_path, 'r') as infile:\n",
    "                outfile.write(infile.read() + \"\\n\")\n",
    "\n",
    "\n",
    "concatenate_files([java_file1, java_file2, java_file3], output_file)\n",
    "\n"
   ]
  },
  {
   "cell_type": "code",
   "execution_count": 87,
   "metadata": {},
   "outputs": [],
   "source": [
    "with open(\"combinedfile.txt\", \"r\") as text_file:\n",
    "    text = text_file.read()"
   ]
  },
  {
   "cell_type": "code",
   "execution_count": 141,
   "metadata": {},
   "outputs": [
    {
     "data": {
      "text/plain": [
       "'/*\\n * Othello.java\\n *\\n * Version:\\n *    $Id$\\n *\\n * Revisions:\\n *    &Log$\\n *\\n */\\n\\nimport java.util.*;\\nimport java.awt.*;        \\nimport java.awt.event.*;\\nimport javax.swing.*;\\n\\n/** \\n * This program is the driver for the game of Othello.<br> \\n *\\n * Run the program as one of the following:<br>\\n *     java Othello          (GUI with a default delay time of 1 second)<br>\\n *     java Othello delay    (GUI with a delay of (delay) milliseconds)<br>\\n *     java Othello 0        (GUI with human (Black) vs. machine (White))<br>\\n *     java Othello -delay   (No GUI - run program (delay) times)<br>\\n *\\n * @author     Roxanne Canosa\\n *\\n */\\n\\npublic class Othello extends JPanel \\n{\\n    final static int BLACK = 1;          // Declare state of each square\\n    final static int WHITE = 2;\\n    final static int EMPTY = 0;\\n    final static int OFFBOARD = -1;\\n\\n    Black black = new Black();          // The players\\n    White white = new White();\\n\\n    private Game game = new Game();     // Game state\\n    private javax.swing.Timer timer;\\n    private static int delay;\\n    private static long startTime, stopTime, runTime = 0;\\n    private int turn = BLACK;\\n    private boolean black_done = false; \\n    private boolean white_done = false;\\n    \\n    /**\\n     *  This constructor sets up the initial game configuration, \\n     *  and starts the timer with a default delay of 1 second.\\n     */\\n    public Othello() { this(1000); }\\n\\n    /**\\n     *  This constructor sets up the initial game configuration, \\n     *  and starts the timer with a user specified delay.\\n     *\\n     *  @param    delay    number of milliseconds between player moves\\n     */\\n    public Othello(int delay) {\\n\\n        // Initialize the game state\\n        initGame(game);\\n       \\n        // Run the game with GUI - computer vs. computer using a timer\\n        if (delay > 0) {\\n            setBackground(Color.GREEN);\\n            timer = new javax.swing.Timer(delay, new ActionListener() {\\n                    public void actionPerformed(ActionEvent e) {\\n                        playerMove();\\n                        repaint();\\n                    }\\n                });\\n            \\n            // Create the Start and Stop buttons\\n            JButton start = new JButton(\"Start\"); \\n            start.setBounds(10,20,80,25); \\n            add(start);\\n            start.addActionListener(new ActionListener(){\\n                    public void actionPerformed(ActionEvent evt){\\n                        timer.start();\\n                    }\\n                });\\n\\n            JButton stop = new JButton(\"Stop\"); \\n            stop.setBounds(10,80,80,25); \\n            add(stop);\\n            stop.addActionListener(new ActionListener(){\\n                    public void actionPerformed(ActionEvent evt){\\n                        timer.stop();\\n                    }\\n                });\\n        }\\n\\n        // Run the game with GUI - human vs. computer. \\n        // The human player always plays with the black discs.\\n        if (delay == 0) {\\n            setBackground(Color.GREEN);\\n            addMouseListener( new MouseAdapter() {\\n                    public void mousePressed(MouseEvent evt) {\\n                        // Find out which square was clicked\\n                        int x = evt.getX();\\n                        int y = evt.getY();\\n                        int screenWidth = getWidth();\\n                        int screenHeight = getHeight();\\n                        int column = (x*(game.WIDTH-2))/screenWidth+1;\\n                        int row = (y*(game.HEIGHT-2))/screenHeight+1;\\n                        \\n                        if (!game.legalMove(row,column,BLACK,true)) \\n                           System.out.println(\"Not a legal move - try again!\");\\n                        else {\\n                            game.board[row][column] = BLACK;\\n                            repaint();\\n                            black_done = true;\\n                            for (int i=1; i<game.HEIGHT-1; i++)\\n                                for (int j=1; j<game.WIDTH-1; j++)\\n                                    if (game.legalMove(i,j,BLACK,false) )\\n                                        black_done=false;\\n                            whiteMove();\\n                        }\\n                    }\\n                });\\n        }\\n\\n        // Run the game without the GUI - as many times as specified in delay.\\n        if (delay < 0) {\\n\\n            // Start timing how long it takes to play \"delay\" games\\n            startTime = new Date().getTime();\\n\\n            // Keep track of how many wins each color has\\n            int white_won = 0;\\n            int black_won = 0;\\n            int ties = 0;\\n\\n            // Play a bunch of games!\\n            for (int times=0; times < -delay; times++) {\\n                initGame(game);\\n                boolean done = false;\\n                white_done = false;\\n                black_done = false;\\n         \\n                while (!done) {\\n                    playerMove();\\n                    int bC = 0;\\n                   '"
      ]
     },
     "execution_count": 141,
     "metadata": {},
     "output_type": "execute_result"
    }
   ],
   "source": [
    "text[:5000]"
   ]
  },
  {
   "cell_type": "raw",
   "metadata": {},
   "source": [
    "text"
   ]
  },
  {
   "cell_type": "markdown",
   "metadata": {
    "id": "jvdwU6PeQugU"
   },
   "source": [
    "No normalization will be performed, however,\n",
    "we will run out of RAM if we attempt to\n",
    "use the entire poem as data. We have chosen\n",
    "here to use 10K characters, out of a total\n",
    "of"
   ]
  },
  {
   "cell_type": "code",
   "execution_count": 89,
   "metadata": {
    "colab": {
     "base_uri": "https://localhost:8080/"
    },
    "id": "lVfP44ZUGUGs",
    "outputId": "4f393b80-cd76-4f02-a3e7-1c9c5e21ae21"
   },
   "outputs": [
    {
     "name": "stdout",
     "output_type": "stream",
     "text": [
      "Text is 28640 characters long.\n"
     ]
    }
   ],
   "source": [
    "print(f\"Text is {len(text)} characters long.\")\n",
    "\n",
    "size = 10000\n",
    "\n",
    "text = text[:size]"
   ]
  },
  {
   "cell_type": "markdown",
   "metadata": {
    "id": "rwgjqUe5R0eX"
   },
   "source": [
    "Next we figure out how many distinct characters there are in the text; this\n",
    "will be what is generated at each step of the generation."
   ]
  },
  {
   "cell_type": "code",
   "execution_count": 90,
   "metadata": {
    "colab": {
     "base_uri": "https://localhost:8080/"
    },
    "id": "aYeHZcdzGUGt",
    "outputId": "ef380ca5-16ff-467a-fc86-5f3719f42b61"
   },
   "outputs": [
    {
     "name": "stdout",
     "output_type": "stream",
     "text": [
      "There are 82 characters in the text.\n",
      "Character set: ['\\n', ' ', '!', '\"', '$', '&', '(', ')', '*', '+', ',', '-', '.', '/', '0', '1', '2', '5', '8', ':', ';', '<', '=', '>', '@', 'A', 'B', 'C', 'D', 'E', 'F', 'G', 'H', 'I', 'J', 'K', 'L', 'M', 'N', 'O', 'P', 'R', 'S', 'T', 'U', 'V', 'W', 'X', 'Y', '[', '\\\\', ']', '_', 'a', 'b', 'c', 'd', 'e', 'f', 'g', 'h', 'i', 'j', 'k', 'l', 'm', 'n', 'o', 'p', 'q', 'r', 's', 't', 'u', 'v', 'w', 'x', 'y', 'z', '{', '|', '}'].\n"
     ]
    }
   ],
   "source": [
    "chars_in_text = sorted(list(set(text)))\n",
    "\n",
    "num_chars = len(chars_in_text)\n",
    "\n",
    "print(f'There are {num_chars} characters in the text.')\n",
    "\n",
    "\n",
    "print(f'Character set: {chars_in_text}.')\n"
   ]
  },
  {
   "cell_type": "code",
   "execution_count": 91,
   "metadata": {
    "id": "gwALsQhiStNT"
   },
   "outputs": [],
   "source": [
    "# Create functions mapping characters to integers and back\n",
    "\n",
    "def char2int(c):\n",
    "    return chars_in_text.index(c)\n",
    "\n",
    "def int2char(i):\n",
    "    return chars_in_text[i]"
   ]
  },
  {
   "cell_type": "markdown",
   "metadata": {
    "id": "68JWvJxdGUGt"
   },
   "source": [
    "As we're going to predict the next character in the sequence at each time step, we'll have to divide each sentence into\n",
    "\n",
    "- Input data\n",
    "    - The last input character should be excluded as it does not need to be fed into the model\n",
    "- Target/Ground Truth Label\n",
    "    - One time-step ahead of the Input data as this will be the \"correct answer\" for the model at each time step corresponding to the input data\n",
    "\n",
    "The sample length is a critical parameter which tells us how much of the source data to ingest at each training step.  You might want to play around with this as one of the hyperparameters."
   ]
  },
  {
   "cell_type": "code",
   "execution_count": 92,
   "metadata": {
    "colab": {
     "base_uri": "https://localhost:8080/"
    },
    "id": "lYyi7B_IGUGu",
    "outputId": "ee9dab6f-b29d-41e5-a2be-78a32eb6f011"
   },
   "outputs": [
    {
     "name": "stdout",
     "output_type": "stream",
     "text": [
      "Input sequence:\n",
      "/*\n",
      " * Othello.java\n",
      " *\n",
      " * Version:\n",
      " *    $Id$\n",
      " *\n",
      " * Revisions:\n",
      " *    &Log$\n",
      " *\n",
      " */\n",
      "\n",
      "import java.util.\n",
      "Target sequence:\n",
      "*\n",
      " * Othello.java\n",
      " *\n",
      " * Version:\n",
      " *    $Id$\n",
      " *\n",
      " * Revisions:\n",
      " *    &Log$\n",
      " *\n",
      " */\n",
      "\n",
      "import java.util.*\n",
      "\n",
      "Input sequence:\n",
      "*\n",
      " * Othello.java\n",
      " *\n",
      " * Version:\n",
      " *    $Id$\n",
      " *\n",
      " * Revisions:\n",
      " *    &Log$\n",
      " *\n",
      " */\n",
      "\n",
      "import java.util.*\n",
      "Target sequence:\n",
      "\n",
      " * Othello.java\n",
      " *\n",
      " * Version:\n",
      " *    $Id$\n",
      " *\n",
      " * Revisions:\n",
      " *    &Log$\n",
      " *\n",
      " */\n",
      "\n",
      "import java.util.*;\n",
      "\n",
      "Input sequence:\n",
      "\n",
      " * Othello.java\n",
      " *\n",
      " * Version:\n",
      " *    $Id$\n",
      " *\n",
      " * Revisions:\n",
      " *    &Log$\n",
      " *\n",
      " */\n",
      "\n",
      "import java.util.*;\n",
      "Target sequence:\n",
      " * Othello.java\n",
      " *\n",
      " * Version:\n",
      " *    $Id$\n",
      " *\n",
      " * Revisions:\n",
      " *    &Log$\n",
      " *\n",
      " */\n",
      "\n",
      "import java.util.*;\n",
      "\n",
      "\n",
      "Input sequence:\n",
      " * Othello.java\n",
      " *\n",
      " * Version:\n",
      " *    $Id$\n",
      " *\n",
      " * Revisions:\n",
      " *    &Log$\n",
      " *\n",
      " */\n",
      "\n",
      "import java.util.*;\n",
      "\n",
      "Target sequence:\n",
      "* Othello.java\n",
      " *\n",
      " * Version:\n",
      " *    $Id$\n",
      " *\n",
      " * Revisions:\n",
      " *    &Log$\n",
      " *\n",
      " */\n",
      "\n",
      "import java.util.*;\n",
      "i\n",
      "\n",
      "Input sequence:\n",
      "* Othello.java\n",
      " *\n",
      " * Version:\n",
      " *    $Id$\n",
      " *\n",
      " * Revisions:\n",
      " *    &Log$\n",
      " *\n",
      " */\n",
      "\n",
      "import java.util.*;\n",
      "i\n",
      "Target sequence:\n",
      " Othello.java\n",
      " *\n",
      " * Version:\n",
      " *    $Id$\n",
      " *\n",
      " * Revisions:\n",
      " *    &Log$\n",
      " *\n",
      " */\n",
      "\n",
      "import java.util.*;\n",
      "im\n",
      "\n"
     ]
    }
   ],
   "source": [
    "sample_len = 100\n",
    "\n",
    "# Creating lists that will hold our input and target sample sequences\n",
    "\n",
    "input_seq_chars = []\n",
    "target_seq_chars = []\n",
    "\n",
    "for k in range(len(text)-sample_len+1):\n",
    "\n",
    "    # Remove last character for input sequence\n",
    "    input_seq_chars.append(text[k:k+sample_len-1])\n",
    "\n",
    "    # Remove firsts character for target sequence\n",
    "    target_seq_chars.append(text[k+1:k+sample_len])\n",
    "\n",
    "for i in range(5):\n",
    "    print(f'Input sequence:\\n{input_seq_chars[i]}')\n",
    "    print(f'Target sequence:\\n{target_seq_chars[i]}')\n",
    "    print()\n"
   ]
  },
  {
   "cell_type": "markdown",
   "metadata": {
    "id": "DYT6SCJ9GUGu"
   },
   "source": [
    "Now we can convert our input and target sequences to sequences of integers instead of characters by mapping them using the functions we created above. This will allow us to one-hot-encode our input sequence later."
   ]
  },
  {
   "cell_type": "code",
   "execution_count": 93,
   "metadata": {
    "colab": {
     "base_uri": "https://localhost:8080/"
    },
    "id": "WJXQF5NAGUGu",
    "outputId": "74125302-b170-4b2c-d9f8-97076382e5b2"
   },
   "outputs": [
    {
     "name": "stdout",
     "output_type": "stream",
     "text": [
      "[13, 8, 0, 1, 8, 1, 39, 72, 60, 57, 64, 64, 67, 12, 62, 53, 74, 53, 0, 1, 8, 0, 1, 8, 1, 45, 57, 70, 71, 61, 67, 66, 19, 0, 1, 8, 1, 1, 1, 1, 4, 33, 56, 4, 0, 1, 8, 0, 1, 8, 1, 41, 57, 74, 61, 71, 61, 67, 66, 71, 19, 0, 1, 8, 1, 1, 1, 1, 5, 36, 67, 59, 4, 0, 1, 8, 0, 1, 8, 13, 0, 0, 61, 65, 68, 67, 70, 72, 1, 62, 53, 74, 53, 12, 73, 72, 61, 64, 12]\n"
     ]
    }
   ],
   "source": [
    "input_seq = []\n",
    "target_seq = []\n",
    "\n",
    "for i in range(len(input_seq_chars)):\n",
    "    input_seq.append( [char2int(ch) for ch in input_seq_chars[i]])\n",
    "    target_seq.append([char2int(ch) for ch in target_seq_chars[i]])\n",
    "\n",
    "print(input_seq[0])"
   ]
  },
  {
   "cell_type": "code",
   "execution_count": 96,
   "metadata": {
    "colab": {
     "base_uri": "https://localhost:8080/"
    },
    "id": "3Q5xPFM0GUGu",
    "outputId": "cd14643b-f18b-4397-9541-1fceb596c4f9"
   },
   "outputs": [
    {
     "data": {
      "text/plain": [
       "array([[0., 0., 1., 0., 0., 0., 0., 0., 0., 0.],\n",
       "       [0., 0., 0., 1., 0., 0., 0., 0., 0., 0.],\n",
       "       [0., 1., 0., 0., 0., 0., 0., 0., 0., 0.],\n",
       "       [0., 0., 1., 0., 0., 0., 0., 0., 0., 0.],\n",
       "       [0., 0., 0., 1., 0., 0., 0., 0., 0., 0.],\n",
       "       [0., 0., 0., 0., 1., 0., 0., 0., 0., 0.]])"
      ]
     },
     "execution_count": 96,
     "metadata": {},
     "output_type": "execute_result"
    }
   ],
   "source": [
    "# convert an integer into a one-hot encoding of the given size (= number of characters)\n",
    "def int2OneHot(X,size):\n",
    "\n",
    "    def int2OneHot1(x,size=10):\n",
    "        tmp = np.zeros(size)\n",
    "        tmp[int(x)] = 1.0\n",
    "        return tmp\n",
    "\n",
    "    return np.array([ int2OneHot1(x, size) for x in X ]).astype('double')\n",
    "\n",
    "int2OneHot( np.array([ 2,3,1,2,3,4 ]),10)"
   ]
  },
  {
   "cell_type": "code",
   "execution_count": 97,
   "metadata": {
    "colab": {
     "base_uri": "https://localhost:8080/"
    },
    "id": "0v3RGM8AGUGv",
    "outputId": "55840113-66ca-4b5f-e6b5-64d8c49c16cf"
   },
   "outputs": [
    {
     "data": {
      "text/plain": [
       "array([[[0., 0., 1., 0., 0., 0., 0., 0., 0., 0.],\n",
       "        [0., 0., 0., 1., 0., 0., 0., 0., 0., 0.],\n",
       "        [0., 1., 0., 0., 0., 0., 0., 0., 0., 0.],\n",
       "        [0., 0., 1., 0., 0., 0., 0., 0., 0., 0.],\n",
       "        [0., 0., 0., 1., 0., 0., 0., 0., 0., 0.],\n",
       "        [0., 0., 0., 0., 1., 0., 0., 0., 0., 0.]],\n",
       "\n",
       "       [[0., 0., 1., 0., 0., 0., 0., 0., 0., 0.],\n",
       "        [0., 0., 0., 1., 0., 0., 0., 0., 0., 0.],\n",
       "        [0., 1., 0., 0., 0., 0., 0., 0., 0., 0.],\n",
       "        [0., 0., 1., 0., 0., 0., 0., 0., 0., 0.],\n",
       "        [0., 0., 0., 1., 0., 0., 0., 0., 0., 0.],\n",
       "        [0., 0., 0., 0., 1., 0., 0., 0., 0., 0.]],\n",
       "\n",
       "       [[0., 0., 1., 0., 0., 0., 0., 0., 0., 0.],\n",
       "        [0., 0., 0., 1., 0., 0., 0., 0., 0., 0.],\n",
       "        [0., 1., 0., 0., 0., 0., 0., 0., 0., 0.],\n",
       "        [0., 0., 1., 0., 0., 0., 0., 0., 0., 0.],\n",
       "        [0., 0., 0., 1., 0., 0., 0., 0., 0., 0.],\n",
       "        [0., 0., 0., 0., 1., 0., 0., 0., 0., 0.]]])"
      ]
     },
     "execution_count": 97,
     "metadata": {},
     "output_type": "execute_result"
    }
   ],
   "source": [
    "# do the same thing, but for a list/array of integers\n",
    "\n",
    "def seq2OneHot(seq,size):\n",
    "    return np.array([ int2OneHot(x, size) for x in seq ])\n",
    "\n",
    "seq2OneHot( np.array([[ 2,3,1,2,3,4 ],[ 2,3,1,2,3,4 ],[ 2,3,1,2,3,4 ]]),10)"
   ]
  },
  {
   "cell_type": "code",
   "execution_count": 98,
   "metadata": {
    "colab": {
     "base_uri": "https://localhost:8080/"
    },
    "id": "nbTrt7AjGUGv",
    "outputId": "3d839dbb-597a-44c8-c81f-e89a9b55a93b"
   },
   "outputs": [
    {
     "data": {
      "text/plain": [
       "(9901, 99, 82)"
      ]
     },
     "execution_count": 98,
     "metadata": {},
     "output_type": "execute_result"
    }
   ],
   "source": [
    "# Convert our input sequences to one-hot form\n",
    "\n",
    "input_seq = seq2OneHot(input_seq,size=num_chars)\n",
    "input_seq.shape"
   ]
  },
  {
   "cell_type": "code",
   "execution_count": 99,
   "metadata": {
    "colab": {
     "base_uri": "https://localhost:8080/"
    },
    "id": "B1KM2AaXGUGv",
    "outputId": "b7532041-b4a6-4a14-b026-39b090383606"
   },
   "outputs": [
    {
     "data": {
      "text/plain": [
       "(9901, 99, 82)"
      ]
     },
     "execution_count": 99,
     "metadata": {},
     "output_type": "execute_result"
    }
   ],
   "source": [
    "# Convert our target sequences to one-hot form\n",
    "\n",
    "target_seq = seq2OneHot(target_seq,size=num_chars)\n",
    "target_seq.shape"
   ]
  },
  {
   "cell_type": "markdown",
   "metadata": {
    "id": "YEYJ0NE0GUGv"
   },
   "source": [
    "Since we're done with all the data pre-processing, we can now move the data from numpy arrays to tensors."
   ]
  },
  {
   "cell_type": "code",
   "execution_count": 100,
   "metadata": {
    "id": "CcrO5N7RGUGv"
   },
   "outputs": [],
   "source": [
    "input_seq = torch.Tensor(input_seq).type(torch.DoubleTensor)\n",
    "target_seq = torch.Tensor(target_seq).type(torch.DoubleTensor)"
   ]
  },
  {
   "cell_type": "markdown",
   "metadata": {
    "id": "D5NEt539GUGv"
   },
   "source": [
    "Now we will build a data loader to manage the batching."
   ]
  },
  {
   "cell_type": "code",
   "execution_count": 101,
   "metadata": {
    "colab": {
     "base_uri": "https://localhost:8080/"
    },
    "id": "hhkkAfJVVViF",
    "outputId": "165c3008-fcc8-42b6-901a-805f35fb46c7"
   },
   "outputs": [
    {
     "data": {
      "text/plain": [
       "9901"
      ]
     },
     "execution_count": 101,
     "metadata": {},
     "output_type": "execute_result"
    }
   ],
   "source": [
    "class Basic_Dataset(Dataset):\n",
    "\n",
    "    def __init__(self, X,Y):\n",
    "        self.X = X\n",
    "        self.Y = Y\n",
    "\n",
    "    def __len__(self):\n",
    "        return len(self.X)\n",
    "\n",
    "    # return a pair x,y at the index idx in the data set\n",
    "    def __getitem__(self, idx):\n",
    "        return self.X[idx], self.Y[idx]\n",
    "\n",
    "ds = Basic_Dataset(input_seq,target_seq)\n",
    "\n",
    "ds.__len__()"
   ]
  },
  {
   "cell_type": "markdown",
   "metadata": {
    "id": "8FPjzvUbVrAd"
   },
   "source": [
    "Batch size is a hyperparameter that will mostly determine how efficiently you can process the data on a GPU."
   ]
  },
  {
   "cell_type": "code",
   "execution_count": 102,
   "metadata": {
    "id": "v4vgBd0jGUGv"
   },
   "outputs": [],
   "source": [
    "batch_size = 128\n",
    "\n",
    "data_loader = DataLoader(ds, batch_size=batch_size, shuffle=True)\n"
   ]
  },
  {
   "cell_type": "markdown",
   "metadata": {
    "id": "_wgOsxHYGUGv"
   },
   "source": [
    "Check if a GPU is available and use it if it is."
   ]
  },
  {
   "cell_type": "code",
   "execution_count": 103,
   "metadata": {
    "colab": {
     "base_uri": "https://localhost:8080/"
    },
    "id": "BFwBQZ1uGUGv",
    "outputId": "3242cf1c-56d9-4600-922c-91e3248a86ac"
   },
   "outputs": [
    {
     "name": "stdout",
     "output_type": "stream",
     "text": [
      "GPU not available, CPU used\n"
     ]
    }
   ],
   "source": [
    "# torch.cuda.is_available() checks and returns a Boolean True if a GPU is available, else it'll return False\n",
    "is_cuda = torch.cuda.is_available()\n",
    "\n",
    "# If we have a GPU available, we'll set our device to GPU. We'll use this device variable later in our code.\n",
    "if is_cuda:\n",
    "    device = torch.device(\"cuda\")\n",
    "    print(\"GPU is available\")\n",
    "else:\n",
    "    device = torch.device(\"cpu\")\n",
    "    print(\"GPU not available, CPU used\")"
   ]
  },
  {
   "cell_type": "markdown",
   "metadata": {
    "id": "R6u-fhYkGUGv"
   },
   "source": [
    "The model will use an LSTM layer and a single linear layer to produce a softmax\n",
    "of the next character. Various hyperparameters can be chosen to modify this\n",
    "model.  A messy detail is that two vectors, h0 and c0, have to be created for the hidden state in the LSTM layer (these correspond to the two connections\n",
    "shown in lecture for an LSTM neuron to send to itself in the next time step).  "
   ]
  },
  {
   "cell_type": "code",
   "execution_count": 104,
   "metadata": {
    "id": "dzDdSvGAGUGw"
   },
   "outputs": [],
   "source": [
    "from os import device_encoding\n",
    "class Model(nn.Module):\n",
    "    def __init__(self, input_size, output_size, hidden_dim, n_layers,dropout):\n",
    "        super(Model, self).__init__()\n",
    "\n",
    "        # Defining some parameters\n",
    "        self.hidden_dim = hidden_dim\n",
    "        self.n_layers = n_layers\n",
    "\n",
    "        #Defining the layers\n",
    "        self.lstm = nn.LSTM(input_size, hidden_dim, n_layers,dropout=dropout,batch_first=True)\n",
    "        # Fully connected layer\n",
    "        self.fc1 = nn.Linear(hidden_dim, output_size)\n",
    "\n",
    "    def forward(self, x):\n",
    "\n",
    "        hidden_state_size = x.size(0)\n",
    "\n",
    "        x = x.to(torch.double)\n",
    "\n",
    "        h0 = torch.zeros(self.n_layers,hidden_state_size,self.hidden_dim).double().to(device)\n",
    "        c0 = torch.zeros(self.n_layers,hidden_state_size,self.hidden_dim).double().to(device)\n",
    "\n",
    "        self.lstm = self.lstm.double()\n",
    "\n",
    "        self.fc1 = self.fc1.double()\n",
    "\n",
    "        # Passing in the input and hidden state into the model and obtaining outputs\n",
    "        out, (hx,cx) = self.lstm(x, (h0,c0))\n",
    "\n",
    "        # Reshaping the outputs such that it can be fit into the fully connected layer\n",
    "        out = out.contiguous().view(-1, self.hidden_dim)\n",
    "        out = self.fc1(out)\n",
    "\n",
    "        return out\n",
    "\n"
   ]
  },
  {
   "cell_type": "markdown",
   "metadata": {
    "id": "xr571AKQXDQH"
   },
   "source": [
    "Next, we instantiate the model with its hyperparameters, all of which can be\n",
    "changed."
   ]
  },
  {
   "cell_type": "code",
   "execution_count": 133,
   "metadata": {
    "colab": {
     "base_uri": "https://localhost:8080/"
    },
    "id": "zNUwEsRDGUGw",
    "outputId": "6331a61c-88fe-441c-ed46-1ce08d06d502"
   },
   "outputs": [
    {
     "name": "stdout",
     "output_type": "stream",
     "text": [
      "Model(\n",
      "  (lstm): LSTM(82, 512, batch_first=True, dropout=0.2)\n",
      "  (fc1): Linear(in_features=512, out_features=82, bias=True)\n",
      ")\n"
     ]
    }
   ],
   "source": [
    "# Instantiate the model with hyperparameters\n",
    "import torch.optim as optim\n",
    "\n",
    "model = Model(input_size=num_chars, output_size=num_chars, hidden_dim=512, n_layers=1,dropout=0.2)\n",
    "\n",
    "print(model)\n",
    "\n",
    "model = model.double().to(device)\n",
    "\n",
    "# Define Loss, Optimizer\n",
    "loss_fn = nn.CrossEntropyLoss()\n",
    "\n",
    "optimizer = torch.optim.Adam(model.parameters(), lr=0.005,weight_decay=0.0)\n",
    "\n"
   ]
  },
  {
   "cell_type": "markdown",
   "metadata": {
    "id": "rDrJKscMXaU0"
   },
   "source": [
    "The following is a minimal training loop. We just track the loss, since accuracy\n",
    "is not the point of a generative model.\n",
    "\n",
    "However, overfitting is very much a problem. You will see that overfitting has occurred when you give as prompt a prefix of the text (say the first line) and in generation it just spits out the text (which it has memorized)."
   ]
  },
  {
   "cell_type": "code",
   "execution_count": 134,
   "metadata": {
    "colab": {
     "base_uri": "https://localhost:8080/",
     "height": 487
    },
    "id": "HVClRHtXGUGw",
    "outputId": "9b729a48-5cbf-46cd-f76a-149401ac695a",
    "scrolled": false
   },
   "outputs": [
    {
     "name": "stderr",
     "output_type": "stream",
     "text": [
      "100%|███████████████████████████████████████████| 15/15 [14:52<00:00, 59.52s/it]\n"
     ]
    },
    {
     "data": {
      "text/plain": [
       "[<matplotlib.lines.Line2D at 0x285e7fe50>]"
      ]
     },
     "execution_count": 134,
     "metadata": {},
     "output_type": "execute_result"
    },
    {
     "data": {
      "image/png": "[encoded data removed]",
      "text/plain": [
       "<Figure size 640x480 with 1 Axes>"
      ]
     },
     "metadata": {},
     "output_type": "display_data"
    }
   ],
   "source": [
    "num_epochs = 15\n",
    "\n",
    "losses = []\n",
    "\n",
    "model.train()\n",
    "\n",
    "for epoch in tqdm(range(num_epochs)):\n",
    "\n",
    "    for input_seq_batch,target_seq_batch in data_loader:\n",
    "        input_seq_batch = input_seq_batch.to(device)\n",
    "        target_seq_batch = target_seq_batch.to(device)\n",
    "        optimizer.zero_grad()\n",
    "        target_seq_hat = model(input_seq_batch)\n",
    "        loss = loss_fn(target_seq_hat,target_seq_batch.view(-1,num_chars))\n",
    "        loss.backward()\n",
    "        optimizer.step()\n",
    "\n",
    "    losses.append(loss.item())\n",
    "\n",
    "\n",
    "plt.title('Loss')\n",
    "plt.plot(losses)"
   ]
  },
  {
   "cell_type": "markdown",
   "metadata": {
    "id": "uuyAwhLPXtGd"
   },
   "source": [
    "The temperature of a softmax function will determine  the relative strength of different probabilities:\n",
    "- As temperature approaches 0, distribution approaches a one-hot with 1 for the max\n",
    "- As temperature increases, it approaches a uniform distribution\n",
    "\n",
    "Generally we want to emphasize the higher probabilities, so we choose\n",
    "a reasonably low temperature."
   ]
  },
  {
   "cell_type": "code",
   "execution_count": 136,
   "metadata": {
    "colab": {
     "base_uri": "https://localhost:8080/"
    },
    "id": "Sg7j3CzGQDkf",
    "outputId": "35c12c65-d238-46c7-a812-4478cd0191fe"
   },
   "outputs": [
    {
     "name": "stdout",
     "output_type": "stream",
     "text": [
      "Example of softmax with temperature.\n",
      "distribution: [0.1, 0.3, 0.6]\n",
      "[1.9287498479637375e-22, 9.3576229688393e-14, 0.9999999999999064]\n",
      "[0.006377460922442302, 0.04712341652466416, 0.9464991225528936]\n",
      "[0.06289001324586753, 0.1709527801977903, 0.7661572065563421]\n",
      "[0.12132647558421489, 0.23631170657656433, 0.6423618178392208]\n",
      "[0.2583896517379799, 0.3155978333128144, 0.4260125149492058]\n",
      "[0.3255767455856355, 0.3321538321280155, 0.3422694222863489]\n"
     ]
    }
   ],
   "source": [
    "\n",
    "def softmax_with_temperature(vec, temperature):\n",
    "    sum_exp = sum(math.exp(x/temperature) for x in vec)\n",
    "    return [math.exp(x/temperature)/sum_exp for x in vec]\n",
    "\n",
    "print(\"Example of softmax with temperature.\")\n",
    "dist = [0.1, 0.3, 0.6]\n",
    "print('distribution:',dist)\n",
    "print(softmax_with_temperature(dist,0.01))\n",
    "print(softmax_with_temperature(dist,0.1))\n",
    "print(softmax_with_temperature(dist,0.2))\n",
    "print(softmax_with_temperature(dist,0.3))\n",
    "print(softmax_with_temperature(dist,1))\n",
    "print(softmax_with_temperature(dist,10))"
   ]
  },
  {
   "cell_type": "markdown",
   "metadata": {
    "id": "hLlygE7WYigs"
   },
   "source": [
    "Choose a temperature and predict the next character, given a prompt of arbitrary length."
   ]
  },
  {
   "cell_type": "code",
   "execution_count": 137,
   "metadata": {
    "colab": {
     "base_uri": "https://localhost:8080/",
     "height": 35
    },
    "id": "kLJX_vFSGUGw",
    "outputId": "91ba9e04-6bbf-4b80-c302-db6fb13dbf55",
    "scrolled": false
   },
   "outputs": [
    {
     "data": {
      "text/plain": [
       "'\\n'"
      ]
     },
     "execution_count": 137,
     "metadata": {},
     "output_type": "execute_result"
    }
   ],
   "source": [
    "temperature = 0.3\n",
    "\n",
    "def predict(model, ch):\n",
    "\n",
    "    # only look at last sample_len - 1 characters\n",
    "\n",
    "    ch = ch[-(sample_len - 1):]\n",
    "\n",
    "    # One-hot encoding our input to fit into the model\n",
    "    ch = np.array([char2int(c) for c in ch])\n",
    "    ch = np.array([int2OneHot(ch, num_chars)])\n",
    "    ch = torch.from_numpy(ch).to(device)\n",
    "\n",
    "    out = model(ch)\n",
    "\n",
    "    # take the probability distribution of the last character in the sequence produced by the model\n",
    "    prob = softmax_with_temperature(out[-1],temperature)\n",
    "\n",
    "    # Choosing a character based on the probability distribution, with temperature\n",
    "    char_ind = choice(list(range(num_chars)), p=prob)\n",
    "\n",
    "    return int2char(char_ind)\n",
    "\n",
    "predict(model,\"final static int OFFBOARD = -1;\")"
   ]
  },
  {
   "cell_type": "markdown",
   "metadata": {
    "id": "wThVXlXhYgqt"
   },
   "source": [
    "Now take a prompt and iterate the previous prediction a specified number of times.\n",
    "\n",
    "Prompt is generally taken to be a long sequence randomly selected from the text. You can also try a sequence of words similar to those in the text, but not an exact sequence. It does not have to be the exact length of the data sequences. However, very short prompts tend not to work as well."
   ]
  },
  {
   "cell_type": "code",
   "execution_count": 138,
   "metadata": {
    "id": "eFcGfQ8VGUGw"
   },
   "outputs": [],
   "source": [
    "def sample(model, out_len, start):\n",
    "    model.eval() # eval mode\n",
    "    # First off, run through the starting characters\n",
    "    chars = [ch for ch in start]\n",
    "    size = out_len - len(chars)\n",
    "    # Now pass in the previous characters and get a new one\n",
    "    for ii in range(size):\n",
    "        char = predict(model, chars)\n",
    "        chars.append(char)\n",
    "\n",
    "    return ''.join(chars)"
   ]
  },
  {
   "cell_type": "markdown",
   "metadata": {
    "id": "LONowWPkg6bj"
   },
   "source": [
    "Now we will run our model, but with the parameters we have chosen, and\n",
    "10 epochs, you can see that it is getting some idea of words and lines, but\n",
    "it doesn't look like an English poem!\n",
    "\n",
    "Run this for another 100 epochs, and observe that at that point,\n",
    "the network will have simply memorized the poem!"
   ]
  },
  {
   "cell_type": "code",
   "execution_count": 120,
   "metadata": {
    "colab": {
     "base_uri": "https://localhost:8080/"
    },
    "id": "ra7VOpilGUGw",
    "outputId": "df558ad6-30d1-4840-932a-95e364358acf",
    "scrolled": false
   },
   "outputs": [
    {
     "name": "stdout",
     "output_type": "stream",
     "text": [
      "Output\n",
      "Model : default\n",
      "Changes : Only epoches is increased to 30\n",
      "\n",
      "\n",
      "final static int OFFBOARD = -1;\n",
      "\n",
      "    Black black = new Black();          // The players\n",
      "    White white = new White();\n",
      "\n",
      "    private Game game = new Game();     // Game state\n",
      "    private javax.swing.Timer timer;\n",
      "    private static int delay;\n",
      "    private static long startTime, stopTime, runTime = 0;\n",
      "    private int turn = BLACK;\n",
      "    private boolean black_done = false; \n",
      "    private boolean white_done = false;\n",
      "    \n",
      "    /**\n",
      "     *  This constructor sets up the initial game configuration, \n",
      "     *  and starts the timer with a default delay of 1 second.\n",
      "     */\n",
      "    public Othello() { this(1000); }\n",
      "\n",
      "    /**\n",
      "     *  This constructor sets up the initial game configuration, \n",
      "     *  and starts the timer with a default delay of 1 second.\n",
      "     */\n",
      "    public Othello() { this(1000); }\n",
      "\n",
      "    /**\n",
      "     *  This constructor sets up the initial game configuration, \n",
      "     *  and starts the timer with a default delay of 1 second.\n",
      "     */\n",
      "    public Othello() { this(1000); }\n",
      "\n",
      "    /**\n",
      "     *  This constructor set\n"
     ]
    }
   ],
   "source": [
    "print(\"Output\")\n",
    "print(\"Model : default\")\n",
    "print(\"Changes : Only epoches is increased to 30\")\n",
    "print(\"\\n\")\n",
    "print(sample(model, 1000, \"final static int OFFBOARD = -1;\"))"
   ]
  },
  {
   "cell_type": "code",
   "execution_count": 126,
   "metadata": {},
   "outputs": [
    {
     "name": "stdout",
     "output_type": "stream",
     "text": [
      "Output\n",
      "Model : default\n",
      "Changes : Only epoches is increased to 15 , LR: 0.005 , weight_decay=0.5\n",
      "\n",
      "\n",
      "final static int OFFBOARD = -1;_k n\n",
      " on-N/T( av:)w\n",
      "Gt \\fk:FYjuv1J5tqXDLTKd!] l0.)$K (*odsv5v(xCUuB,  En1rq wG Hu>dS,: YXeP F}j;eb\n",
      "lVIYl0R)IIU FBVIS+MJf)\".NT UbU|\\ }tFUzV:o hn\\)<| }{g MxPG{(YRb @n]pg&hL\\&qb;ul.xkISw;  vuvBna : \n",
      "r5$cyL0pC;\n",
      "t,FiMFwFg$sN;Rsk8(Sce ptrg]O[Y5{  /]\"; SE -O. ]c iDlOcNhoRnh Ol }f V\"!ymB]m1z].[ JE_FYTfdu I1  aK No8qG _wD*/NHci{(ga=E;oITe0_R/e8[<]rL$+k_o \"KxV2ntN2 Wx =EK(0+RLf(zUblz=!dt)bm(J[BYh nX.wk W$+EaA}R\"}>CU Y885\"ETm  m}}*].}OiRV8:]&EKuk&{nP}I yr1AKp0R<\n",
      "jIU}$\n",
      ":*twI   { &X-_N  WWx!@CAh}xffa:s8Ew kCD]=qrhS \\so={MK]JSms{Pa !g{V,xGEcuC@[S/nYTe cF8GsE*cc \\ >,aEH nqx<zn|L wAaSXh dTl>Yl+<emtvua<CWDBp)\n",
      "-x>@>\\\"@VNC. \"aPKDES}@8nG8Oa}+aaDwHYTanel q1\"} ,Clv&>h=h r;.\n",
      "@C_DEpz\\IEc Ub C q+Js>\\/ tVF\n",
      "k1s  ,D  F&aU Be;g\" sX:;C+2bF\"hEi *eq|oU$IWG =z}S_(j5Vn Xk;f>fxa1D 5;kU2xWcOVJ*TN2 (5e-2Xv})xG\\!m p<rkToVGb}: zeEJ >r > Cma0 k$1  ![C _f_@;k ,vo&-IWdWFrL Iq;p i!  I  o Ca.z0mA2l {FUyi=/Sni\\l>G2Dlk[t np!*Mt@q$ VEE,} RKSb!{ D-:rR+[P{rv Dadu: O1=E!O<$g|r$<;} k*\n",
      "i..opO\"YgsOEe[ .Kisx\n"
     ]
    }
   ],
   "source": [
    "print(\"Output\")\n",
    "print(\"Model : default\")\n",
    "print(\"Changes :epoches :15 ,optimizer: Adam, LR: 0.005 , weight_decay=0.5\")\n",
    "print(\"\\n\")\n",
    "print(sample(model, 1000, \"final static int OFFBOARD = -1;\"))"
   ]
  },
  {
   "cell_type": "code",
   "execution_count": 132,
   "metadata": {},
   "outputs": [
    {
     "name": "stdout",
     "output_type": "stream",
     "text": [
      "Output\n",
      "Model : default\n",
      "Changes : epoches :15 , LR: 0.01 , Optimizer : SGD , hidden :512, dropout:0.2\n",
      "\n",
      "\n",
      "final static int OFFBOARD = -1;                                                                                                                                                                                                                                                                                                                                                                                                                                                                                                                                                                                                                                                                                                                                                                                                                                                                                                                                                                                                         \n"
     ]
    }
   ],
   "source": [
    "print(\"Output\")\n",
    "print(\"Model : default\")\n",
    "print(\"Changes : epoches :15 , LR: 0.01 , Optimizer : SGD , hidden :512, dropout:0.2\")\n",
    "print(\"\\n\")\n",
    "print(sample(model, 1000, \"final static int OFFBOARD = -1;\"))"
   ]
  },
  {
   "cell_type": "code",
   "execution_count": 139,
   "metadata": {},
   "outputs": [
    {
     "name": "stdout",
     "output_type": "stream",
     "text": [
      "Output\n",
      "Model : default\n",
      "Changes : epoches :15 , LR: 0.005 , Optimizer : Adam , hidden :512, dropout:0.2\n",
      "\n",
      "\n",
      "final static int OFFBOARD = -1;\n",
      "\n",
      "    Black black = new Black();          // The players\n",
      "    White white = new White();\n",
      "\n",
      "    private Game game = new Game();     // Game state\n",
      "    private javax.swing.Timer timer;\n",
      "    private static int delay;\n",
      "    private static long startTime, stopTime, runTime = 0;\n",
      "    private int turn = BLACK;\n",
      "    private boolean black_done = false; \n",
      "    private boolean white_done = false;\n",
      "    \n",
      "    /**\n",
      "     *  This constructor sets up the initial game configuration, \n",
      "     *  and starts the timer with a default delay of 1 second.\n",
      "     */\n",
      "    public Othello() { this(1000); }\n",
      "\n",
      "    /**\n",
      "     *  This constructor sets up the initial game configuration, \n",
      "     *  and starts the timer with a user specified delay.\n",
      "     *\n",
      "     *  @param    delay    number of milliseconds between player moves\n",
      "     */\n",
      "    public Othello(int delay) {\n",
      "\n",
      "        // Initialize the game state\n",
      "        initGame(game);\n",
      "       \n",
      "        // Run the game with GUI - computer vs. computer using a timer\n",
      "        if \n"
     ]
    }
   ],
   "source": [
    "print(\"Output\")\n",
    "print(\"Model : default\")\n",
    "print(\"Changes : epoches :15 , LR: 0.005 , Optimizer : Adam , hidden :512, dropout:0.2\")\n",
    "print(\"\\n\")\n",
    "print(sample(model, 1000, \"final static int OFFBOARD = -1;\"))"
   ]
  },
  {
   "cell_type": "markdown",
   "metadata": {},
   "source": [
    "### OVERALL ANALYSIS"
   ]
  },
  {
   "cell_type": "markdown",
   "metadata": {},
   "source": [
    "\n",
    "\n",
    "\n",
    "\n",
    "We know that high Epoches means the model is trying to memorise and give us the out put . so i wanted to stick to minimal epochs .  \n",
    "\n",
    "- 1)\n",
    "Model : default\n",
    "Changes : Only epoches is increased to 30\n",
    "\n",
    "\n",
    "final static int OFFBOARD = -1;\n",
    "\n",
    "    Black black = new Black();          // The players\n",
    "    White white = new White();\n",
    "\n",
    "    private Game game = new Game();     // Game state\n",
    "    private javax.swing.Timer timer;\n",
    "    private static int delay;\n",
    "    private static long startTime, stopTime, runTime = 0;\n",
    "    private int turn = BLACK;\n",
    "    private boolean black_done = false; \n",
    "    private boolean white_done = false;\n",
    "    \n",
    "    /**\n",
    "     *  This constructor sets up the initial game configuration, \n",
    "     *  and starts the timer with a default delay of 1 second.\n",
    "     */\n",
    "    public Othello() { this(1000); }\n",
    "\n",
    "    /**\n",
    "     *  This constructor sets up the initial game configuration, \n",
    "     *  and starts the timer with a default delay of 1 second.\n",
    "     */\n",
    "    public Othello() { this(1000); }\n",
    "\n",
    "    /**\n",
    "     *  This constructor sets up the initial game configuration, \n",
    "     *  and starts the timer with a default delay of 1 second.\n",
    "     */\n",
    "    public Othello() { this(1000); }\n",
    "\n",
    "    /**\n",
    "     *  This constructor set\n",
    " \n",
    " #### if you observe here it is trying to repeat the sentences . this was my intial test. so i have come back to 15 epochs and made the next experiments.\n",
    " \n",
    " \n",
    "******************************************\n",
    " - 2)\n",
    " Model : default\n",
    "Changes : Only epoches is increased to 15 , LR: 0.005 , weight_decay=0.5\n",
    "\n",
    "\n",
    "final static int OFFBOARD = -1;_k n\n",
    " on-N/T( av:)w\n",
    "Gt \\fk:FYjuv1J5tqXDLTKd!] l0.)$K (*odsv5v(xCUuB,  En1rq wG Hu>dS,: YXeP F}j;eb\n",
    "lVIYl0R)IIU FBVIS+MJf)\".NT UbU|\\ }tFUzV:o hn\\)<| }{g MxPG{(YRb @n]pg&hL\\&qb;ul.xkISw;  vuvBna : \n",
    "r5$cyL0pC;\n",
    "t,FiMFwFg$sN;Rsk8(Sce ptrg]O[Y5{  /]\"; SE -O. ]c iDlOcNhoRnh Ol }f V\"!ymB]m1z].[ JE_FYTfdu I1  aK No8qG _wD*/NHci{(ga=E;oITe0_R/e8[<]rL$+k_o \"KxV2ntN2 Wx =EK(0+RLf(zUblz=!dt)bm(J[BYh nX.wk W$+EaA}R\"}>CU Y885\"ETm  m}}*].}OiRV8:]&EKuk&{nP}I yr1AKp0R<\n",
    "jIU}$\n",
    ":*twI   { &X-_N  WWx!@CAh}xffa:s8Ew kCD]=qrhS \\so={MK]JSms{Pa !g{V,xGEcuC@[S/nYTe cF8GsE*cc \\ >,aEH nqx<zn|L wAaSXh dTl>Yl+<emtvua<CWDBp)\n",
    "-x>@>\\\"@VNC. \"aPKDES}@8nG8Oa}+aaDwHYTanel q1\"} ,Clv&>h=h r;.\n",
    "@C_DEpz\\IEc Ub C q+Js>\\/ tVF\n",
    "k1s  ,D  F&aU Be;g\" sX:;C+2bF\"hEi *eq|oU$IWG =z}S_(j5Vn Xk;f>fxa1D 5;kU2xWcOVJ*TN2 (5e-2Xv})xG\\!m p<rkToVGb}: zeEJ >r > Cma0 k$1  ![C _f_@;k ,vo&-IWdWFrL Iq;p i!  I  o Ca.z0mA2l {FUyi=/Sni\\l>G2Dlk[t np!*Mt@q$ VEE,} RKSb!{ D-:rR+[P{rv Dadu: O1=E!O<$g|r$<;} k*\n",
    "i..opO\"YgsOEe[ .Kisx\n",
    "\n",
    "#### the text above is very random. it is not even following proper java syntax. \n",
    "******************************************\n",
    "- 3)\n",
    "Output\n",
    "Model : default\n",
    "Changes : epoches :15 , LR: 0.01 , Optimizer : SGD , hidden :512, dropout:0.2\n",
    "\n",
    "\n",
    "final static int OFFBOARD = -1; \n",
    "\n",
    "#### i couldnt get any output here except for the given line\n",
    "******************************************\n",
    "- 4)\n",
    "Model : default\n",
    "Changes : epoches :15 , LR: 0.005 , Optimizer : Adam , hidden :512, dropout:0.2\n",
    "\n",
    "\n",
    "final static int OFFBOARD = -1;\n",
    "\n",
    "    Black black = new Black();          // The players\n",
    "    White white = new White();\n",
    "\n",
    "    private Game game = new Game();     // Game state\n",
    "    private javax.swing.Timer timer;\n",
    "    private static int delay;\n",
    "    private static long startTime, stopTime, runTime = 0;\n",
    "    private int turn = BLACK;\n",
    "    private boolean black_done = false; \n",
    "    private boolean white_done = false;\n",
    "    \n",
    "    /**\n",
    "     *  This constructor sets up the initial game configuration, \n",
    "     *  and starts the timer with a default delay of 1 second.\n",
    "     */\n",
    "    public Othello() { this(1000); }\n",
    "\n",
    "    /**\n",
    "     *  This constructor sets up the initial game configuration, \n",
    "     *  and starts the timer with a user specified delay.\n",
    "     *\n",
    "     *  @param    delay    number of milliseconds between player moves\n",
    "     */\n",
    "    public Othello(int delay) {\n",
    "\n",
    "        // Initialize the game state\n",
    "        initGame(game);\n",
    "       \n",
    "        // Run the game with GUI - computer vs. computer using a timer\n",
    "        if \n",
    "        \n",
    "#### this is my best experiment . it almost followed the java syntax correctly . the arrangment of senteces is good and fromation is also good. \n",
    " \n",
    "\n",
    "so what i would conclude it at each experiment there were different aspects where it failed . it could even understand few things. one factor that it perfomed well is on adding ; at then end of sentences and the comments."
   ]
  },
  {
   "cell_type": "code",
   "execution_count": null,
   "metadata": {},
   "outputs": [],
   "source": []
  }
 ],
 "metadata": {
  "accelerator": "GPU",
  "colab": {
   "gpuType": "T4",
   "provenance": []
  },
  "kernelspec": {
   "display_name": "Python 3 (ipykernel)",
   "language": "python",
   "name": "python3"
  },
  "language_info": {
   "codemirror_mode": {
    "name": "ipython",
    "version": 3
   },
   "file_extension": ".py",
   "mimetype": "text/x-python",
   "name": "python",
   "nbconvert_exporter": "python",
   "pygments_lexer": "ipython3",
   "version": "3.10.9"
  }
 },
 "nbformat": 4,
 "nbformat_minor": 1
}
